{
 "cells": [
  {
   "cell_type": "code",
   "execution_count": 2,
   "metadata": {},
   "outputs": [],
   "source": [
    "import numpy as np\n",
    "import pandas as pd"
   ]
  },
  {
   "cell_type": "code",
   "execution_count": 80,
   "metadata": {},
   "outputs": [],
   "source": [
    "temps = np.array([[1,2,7,9,10],[3,2,8,6,9]])"
   ]
  },
  {
   "cell_type": "code",
   "execution_count": 6,
   "metadata": {},
   "outputs": [],
   "source": [
    "def Johnson(temps):\n",
    "    Sequence = []\n",
    "    X = np.where(temps[1,:]>=temps[0,:]) # l'ensemble X\n",
    "    rest = np.where(temps[1,:]<temps[0,:]) # T\\X\n",
    "    p_X = temps[0][X] \n",
    "    p_rest = temps[1][rest]\n",
    "    SPT_1 = np.argsort(p_X) # SPT 1 \n",
    "    for i in range(len(X[0])):\n",
    "        Sequence.append(X[0][SPT_1[i]])\n",
    "    spt_2 = np.argsort(p_rest)\n",
    "    LPT_2 = spt_2[::-1] # LPT 2 \n",
    "    for i in range(len(rest[0])):\n",
    "        Sequence.append(rest[0][LPT_2[i]])\n",
    "    return Sequence"
   ]
  },
  {
   "cell_type": "code",
   "execution_count": 97,
   "metadata": {},
   "outputs": [
    {
     "name": "stdout",
     "output_type": "stream",
     "text": [
      "[0, 1, 2, 4, 3]\n"
     ]
    }
   ],
   "source": [
    "Sequence = Johnson(temps)\n",
    "print(Sequence)"
   ]
  },
  {
   "cell_type": "code",
   "execution_count": 13,
   "metadata": {},
   "outputs": [],
   "source": [
    "def temps_fdt(Sequence,temps):\n",
    "    C = [[]]\n",
    "    C[0].append(temps[0][Sequence[0]])\n",
    "    for i in range(1,len(temps[0])) : C[0].append(C[0][i-1]+temps[0][Sequence[i]])\n",
    "    for j in range(1,len(temps)) :\n",
    "        c = [temps[j][Sequence[0]] + C[j-1][0]]\n",
    "        for i in range(1,len(temps[0])):\n",
    "            c.append(temps[j][Sequence[i]]+max(c[i-1],C[j-1][i]))\n",
    "        C.append(c)\n",
    "    return C\n",
    "#temps_fdt(Sequence,temps)"
   ]
  },
  {
   "cell_type": "code",
   "execution_count": 4,
   "metadata": {},
   "outputs": [],
   "source": [
    "temps = np.array([[1, 10, 17, 12, 11],[13, 12 ,9 ,17, 3],[6, 18, 13, 2, 5],[2, 18, 4, 6 ,16]])"
   ]
  },
  {
   "cell_type": "markdown",
   "metadata": {},
   "source": [
    "# Gupta"
   ]
  },
  {
   "cell_type": "code",
   "execution_count": 139,
   "metadata": {},
   "outputs": [],
   "source": [
    "def Gupta(temps):   \n",
    "    e = []\n",
    "    minimum = []\n",
    "    s = []\n",
    "    for i in range(len(temps[0])):\n",
    "        if temps[0][i] < temps[-1][i]: e.append(1)\n",
    "        else : e.append(-1)\n",
    "        min_value = temps[0][i]+temps[1][i]\n",
    "        for j in range(1,len(temps)-1):\n",
    "            if (temps[j][i]+temps[j+1][i]<min_value): min_value = temps[j][i]+temps[j+1][i]\n",
    "        minimum.append(min_value)\n",
    "        s.append(e[i]/min_value)\n",
    "    Sequence = np.argsort(s)\n",
    "    Sequence = Sequence[::-1]\n",
    "    return Sequence"
   ]
  },
  {
   "cell_type": "code",
   "execution_count": 141,
   "metadata": {},
   "outputs": [
    {
     "data": {
      "text/plain": [
       "array([4, 0, 1, 2, 3], dtype=int64)"
      ]
     },
     "execution_count": 141,
     "metadata": {},
     "output_type": "execute_result"
    }
   ],
   "source": [
    "sequence = Gupta(temps) # fix the bigger index before the smaller index\n",
    "sequence\n",
    "#temps_fdt(sequence,temps)"
   ]
  },
  {
   "cell_type": "markdown",
   "metadata": {},
   "source": [
    "# CDS"
   ]
  },
  {
   "cell_type": "code",
   "execution_count": 18,
   "metadata": {},
   "outputs": [
    {
     "name": "stdout",
     "output_type": "stream",
     "text": [
      "[[0, 1, 4, 3, 2], [4, 1, 2, 3, 0], [4, 0, 1, 2, 3]] [88, 88, 85]\n"
     ]
    }
   ],
   "source": [
    "Sequence = []\n",
    "Cmax = []\n",
    "for k in range(1,len(temps)):\n",
    "    p = [[],[]]\n",
    "    for i in range(len(temps[0])):\n",
    "        value1 = temps[0][i]\n",
    "        value2 = temps[(len(temps)-1)-k+1][i]\n",
    "        for j in range(1,k): value1 = value1 + temps[j][i]\n",
    "        for j in range((len(temps)-1)-k+2,len(temps)):value2 = value2 + temps[j][i]\n",
    "        p[0].append(value1)\n",
    "        p[1].append(value2)\n",
    "    p = np.array(p)\n",
    "    Sequence.append(Johnson(p))\n",
    "    C = temps_fdt(Sequence[-1],temps)\n",
    "    Cmax.append(C[-1][-1])\n",
    "print(Sequence,Cmax)"
   ]
  },
  {
   "cell_type": "markdown",
   "metadata": {},
   "source": [
    "# NEH"
   ]
  },
  {
   "cell_type": "code",
   "execution_count": 8,
   "metadata": {},
   "outputs": [
    {
     "name": "stdout",
     "output_type": "stream",
     "text": [
      "[2 1] 0 1\n",
      "[1 2] 1 1\n",
      "[3 1] 0 2\n",
      "[1 3] 1 2\n",
      "[4 1] 0 3\n",
      "[1 4] 1 3\n"
     ]
    }
   ],
   "source": [
    "Seq = []\n",
    "p = np.array([])\n",
    "for i in range(len(temps[0])):\n",
    "    value = temps[0][i]\n",
    "    for j in range(1,len(temps)): value += temps[j][i]\n",
    "    p = np.append(p,value)\n",
    "sort = np.argsort(p)\n",
    "LPT = sort[::-1]\n",
    "Seq.append(LPT[0])\n",
    "for k in range(1,len(LPT)-1):\n",
    "    for i in range(len(Seq)+1):\n",
    "        seq = np.insert(Seq, i, LPT[k])\n",
    "        print(seq,i,k)\n",
    "\n"
   ]
  },
  {
   "cell_type": "code",
   "execution_count": 2,
   "metadata": {},
   "outputs": [
    {
     "name": "stdout",
     "output_type": "stream",
     "text": [
      "Original array: [1 2 3 4 5]\n",
      "Array after insertion: [99  1  2  3  4  5]\n"
     ]
    }
   ],
   "source": [
    "import numpy as np\n",
    "\n",
    "# Create a sample NumPy array\n",
    "original_array = np.array([1, 2, 3, 4, 5])\n",
    "\n",
    "# Element to insert\n",
    "element_to_insert = 99\n",
    "\n",
    "# Index at which to insert the element\n",
    "index_to_insert = 0\n",
    "\n",
    "# Use numpy.insert() to insert the element at the specified index\n",
    "new_array = np.insert(original_array, index_to_insert, element_to_insert)\n",
    "\n",
    "print(\"Original array:\", original_array)\n",
    "print(\"Array after insertion:\", new_array)\n"
   ]
  }
 ],
 "metadata": {
  "kernelspec": {
   "display_name": "Python 3",
   "language": "python",
   "name": "python3"
  },
  "language_info": {
   "codemirror_mode": {
    "name": "ipython",
    "version": 3
   },
   "file_extension": ".py",
   "mimetype": "text/x-python",
   "name": "python",
   "nbconvert_exporter": "python",
   "pygments_lexer": "ipython3",
   "version": "3.12.0"
  }
 },
 "nbformat": 4,
 "nbformat_minor": 2
}
